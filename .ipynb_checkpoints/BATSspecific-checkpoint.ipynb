{
 "cells": [
  {
   "cell_type": "markdown",
   "id": "894381e9-8411-449b-b8ba-8fb34d6e3724",
   "metadata": {},
   "source": [
    "Ready to set up the BATS specific information\\\n",
    "Krista Longnecker , 17 June 2025"
   ]
  },
  {
   "cell_type": "code",
   "execution_count": 1,
   "id": "2ba870f4-e454-4bc5-9e1d-d8fd49c77d8c",
   "metadata": {},
   "outputs": [],
   "source": [
    "%matplotlib inline\n",
    "import matplotlib.pyplot as plt\n",
    "import pycmap\n",
    "from pycmap.viz import plot_timeseries\n",
    "from config import API_KEY #config will be in .gitignore so this does not end up online"
   ]
  },
  {
   "cell_type": "code",
   "execution_count": null,
   "id": "0dd56411-18c3-4f80-a705-823288a7ca4c",
   "metadata": {},
   "outputs": [],
   "source": []
  },
  {
   "cell_type": "code",
   "execution_count": 2,
   "id": "56d2027c-f5ec-48c6-bedb-795a86e1255f",
   "metadata": {},
   "outputs": [],
   "source": [
    "#get the API from the CMAP website, and store that in config\n",
    "api = pycmap.API(token=API_KEY)"
   ]
  }
 ],
 "metadata": {
  "kernelspec": {
   "display_name": "Python 3 (ipykernel)",
   "language": "python",
   "name": "python3"
  },
  "language_info": {
   "codemirror_mode": {
    "name": "ipython",
    "version": 3
   },
   "file_extension": ".py",
   "mimetype": "text/x-python",
   "name": "python",
   "nbconvert_exporter": "python",
   "pygments_lexer": "ipython3",
   "version": "3.13.2"
  }
 },
 "nbformat": 4,
 "nbformat_minor": 5
}
