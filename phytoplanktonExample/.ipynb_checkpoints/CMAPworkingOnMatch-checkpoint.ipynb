{
 "cells": [
  {
   "cell_type": "markdown",
   "id": "06c37f0f-4991-409e-b712-708e4b9fbd3a",
   "metadata": {},
   "source": [
    "Use Prochlorococcus example to figure out how to match data to a place (I will ultimately do BATS)\\\n",
    "Krista Longnecker, 15 June 2025\n",
    "### Update \n",
    "Did not go too far down this path as it's clear I will need the HPC because this takes a bit of memory. Keep this notebook in case the notes I took here are useful.\n"
   ]
  },
  {
   "cell_type": "code",
   "execution_count": 11,
   "id": "7710909f-9d99-4d36-871a-40718aa6c7cb",
   "metadata": {},
   "outputs": [],
   "source": [
    "%matplotlib inline\n",
    "import matplotlib.pyplot as plt\n",
    "import sys\n",
    "sys.path.append(\"../config\")\n",
    "from config import API_KEY\n",
    "import pycmap\n",
    "from pycmap.viz import plot_timeseries\n",
    "import os #sometimes useful"
   ]
  },
  {
   "cell_type": "code",
   "execution_count": 12,
   "id": "71256e29-4035-4879-b001-c7481fb9624e",
   "metadata": {},
   "outputs": [
    {
     "name": "stdout",
     "output_type": "stream",
     "text": [
      "\n",
      "********************************\n",
      "Downloading  ('tblSeaFlow_v1_5', ['cruise', 'abundance_prochloro', 'abundance_synecho', 'abundance_picoeuk'])  ...\n",
      "********************************\n",
      "\n",
      "\n",
      "********************************\n",
      "Downloading  ('tblFlombaum', ['prochlorococcus_abundance_flombaum', 'synechococcus_abundance_flombaum'])  ...\n",
      "********************************\n",
      "\n"
     ]
    }
   ],
   "source": [
    "#first, need to figure out how to run .py scripts from jupyter notebook\n",
    "#scripts are all in matchToBATS\n",
    "%run collect.py"
   ]
  },
  {
   "cell_type": "code",
   "execution_count": 13,
   "id": "073122b2-468d-4254-869e-d8dc60adbee5",
   "metadata": {},
   "outputs": [
    {
     "ename": "KeyboardInterrupt",
     "evalue": "",
     "output_type": "error",
     "traceback": [
      "\u001b[31m---------------------------------------------------------------------------\u001b[39m",
      "\u001b[31mKeyboardInterrupt\u001b[39m                         Traceback (most recent call last)",
      "\u001b[36mFile \u001b[39m\u001b[32m~\\Documents\\Dropbox\\GitHub\\BATSwithCMAP\\phytoplanktonExample\\colocalize.py:160\u001b[39m\n\u001b[32m    150\u001b[39m \u001b[38;5;66;03m#######################################\u001b[39;00m\n\u001b[32m    151\u001b[39m \u001b[38;5;66;03m#                                     #\u001b[39;00m\n\u001b[32m    152\u001b[39m \u001b[38;5;66;03m#                                     #\u001b[39;00m\n\u001b[32m   (...)\u001b[39m\u001b[32m    155\u001b[39m \u001b[38;5;66;03m#                                     #\u001b[39;00m\n\u001b[32m    156\u001b[39m \u001b[38;5;66;03m#######################################\u001b[39;00m\n\u001b[32m    159\u001b[39m \u001b[38;5;28;01mif\u001b[39;00m \u001b[34m__name__\u001b[39m == \u001b[33m\"\u001b[39m\u001b[33m__main__\u001b[39m\u001b[33m\"\u001b[39m:\n\u001b[32m--> \u001b[39m\u001b[32m160\u001b[39m     \u001b[43mmain\u001b[49m\u001b[43m(\u001b[49m\u001b[43m)\u001b[49m    \n",
      "\u001b[36mFile \u001b[39m\u001b[32m~\\Documents\\Dropbox\\GitHub\\BATSwithCMAP\\phytoplanktonExample\\colocalize.py:140\u001b[39m, in \u001b[36mmain\u001b[39m\u001b[34m()\u001b[39m\n\u001b[32m    138\u001b[39m \u001b[38;5;28;01mwith\u001b[39;00m concurrent.futures.ThreadPoolExecutor() \u001b[38;5;28;01mas\u001b[39;00m executor:\n\u001b[32m    139\u001b[39m     futureObjs = executor.map(match, dfs, [api] * \u001b[38;5;28mlen\u001b[39m(dfs), [envs] * \u001b[38;5;28mlen\u001b[39m(dfs), [cyanoFile] * \u001b[38;5;28mlen\u001b[39m(dfs), [\u001b[38;5;28mlen\u001b[39m(dfs)] * \u001b[38;5;28mlen\u001b[39m(dfs))\n\u001b[32m--> \u001b[39m\u001b[32m140\u001b[39m \u001b[43m    \u001b[49m\u001b[38;5;28;43;01mfor\u001b[39;49;00m\u001b[43m \u001b[49m\u001b[43mfo\u001b[49m\u001b[43m \u001b[49m\u001b[38;5;129;43;01min\u001b[39;49;00m\u001b[43m \u001b[49m\u001b[43mfutureObjs\u001b[49m\u001b[43m:\u001b[49m\n\u001b[32m    141\u001b[39m \u001b[43m        \u001b[49m\u001b[38;5;28;43;01mif\u001b[39;49;00m\u001b[43m \u001b[49m\u001b[38;5;28;43mlen\u001b[39;49m\u001b[43m(\u001b[49m\u001b[43mcolocalizedDF\u001b[49m\u001b[43m)\u001b[49m\u001b[43m \u001b[49m\u001b[43m<\u001b[49m\u001b[43m \u001b[49m\u001b[32;43m1\u001b[39;49m\u001b[43m:\u001b[49m\n\u001b[32m    142\u001b[39m \u001b[43m            \u001b[49m\u001b[43mcolocalizedDF\u001b[49m\u001b[43m \u001b[49m\u001b[43m=\u001b[49m\u001b[43m \u001b[49m\u001b[43mfo\u001b[49m\n",
      "\u001b[36mFile \u001b[39m\u001b[32m~\\AppData\\Local\\miniconda3\\Lib\\concurrent\\futures\\_base.py:619\u001b[39m, in \u001b[36mExecutor.map.<locals>.result_iterator\u001b[39m\u001b[34m()\u001b[39m\n\u001b[32m    616\u001b[39m \u001b[38;5;28;01mwhile\u001b[39;00m fs:\n\u001b[32m    617\u001b[39m     \u001b[38;5;66;03m# Careful not to keep a reference to the popped future\u001b[39;00m\n\u001b[32m    618\u001b[39m     \u001b[38;5;28;01mif\u001b[39;00m timeout \u001b[38;5;129;01mis\u001b[39;00m \u001b[38;5;28;01mNone\u001b[39;00m:\n\u001b[32m--> \u001b[39m\u001b[32m619\u001b[39m         \u001b[38;5;28;01myield\u001b[39;00m \u001b[43m_result_or_cancel\u001b[49m\u001b[43m(\u001b[49m\u001b[43mfs\u001b[49m\u001b[43m.\u001b[49m\u001b[43mpop\u001b[49m\u001b[43m(\u001b[49m\u001b[43m)\u001b[49m\u001b[43m)\u001b[49m\n\u001b[32m    620\u001b[39m     \u001b[38;5;28;01melse\u001b[39;00m:\n\u001b[32m    621\u001b[39m         \u001b[38;5;28;01myield\u001b[39;00m _result_or_cancel(fs.pop(), end_time - time.monotonic())\n",
      "\u001b[36mFile \u001b[39m\u001b[32m~\\AppData\\Local\\miniconda3\\Lib\\concurrent\\futures\\_base.py:317\u001b[39m, in \u001b[36m_result_or_cancel\u001b[39m\u001b[34m(***failed resolving arguments***)\u001b[39m\n\u001b[32m    315\u001b[39m \u001b[38;5;28;01mtry\u001b[39;00m:\n\u001b[32m    316\u001b[39m     \u001b[38;5;28;01mtry\u001b[39;00m:\n\u001b[32m--> \u001b[39m\u001b[32m317\u001b[39m         \u001b[38;5;28;01mreturn\u001b[39;00m \u001b[43mfut\u001b[49m\u001b[43m.\u001b[49m\u001b[43mresult\u001b[49m\u001b[43m(\u001b[49m\u001b[43mtimeout\u001b[49m\u001b[43m)\u001b[49m\n\u001b[32m    318\u001b[39m     \u001b[38;5;28;01mfinally\u001b[39;00m:\n\u001b[32m    319\u001b[39m         fut.cancel()\n",
      "\u001b[36mFile \u001b[39m\u001b[32m~\\AppData\\Local\\miniconda3\\Lib\\concurrent\\futures\\_base.py:451\u001b[39m, in \u001b[36mFuture.result\u001b[39m\u001b[34m(self, timeout)\u001b[39m\n\u001b[32m    448\u001b[39m \u001b[38;5;28;01melif\u001b[39;00m \u001b[38;5;28mself\u001b[39m._state == FINISHED:\n\u001b[32m    449\u001b[39m     \u001b[38;5;28;01mreturn\u001b[39;00m \u001b[38;5;28mself\u001b[39m.__get_result()\n\u001b[32m--> \u001b[39m\u001b[32m451\u001b[39m \u001b[38;5;28;43mself\u001b[39;49m\u001b[43m.\u001b[49m\u001b[43m_condition\u001b[49m\u001b[43m.\u001b[49m\u001b[43mwait\u001b[49m\u001b[43m(\u001b[49m\u001b[43mtimeout\u001b[49m\u001b[43m)\u001b[49m\n\u001b[32m    453\u001b[39m \u001b[38;5;28;01mif\u001b[39;00m \u001b[38;5;28mself\u001b[39m._state \u001b[38;5;129;01min\u001b[39;00m [CANCELLED, CANCELLED_AND_NOTIFIED]:\n\u001b[32m    454\u001b[39m     \u001b[38;5;28;01mraise\u001b[39;00m CancelledError()\n",
      "\u001b[36mFile \u001b[39m\u001b[32m~\\AppData\\Local\\miniconda3\\Lib\\threading.py:359\u001b[39m, in \u001b[36mCondition.wait\u001b[39m\u001b[34m(self, timeout)\u001b[39m\n\u001b[32m    357\u001b[39m \u001b[38;5;28;01mtry\u001b[39;00m:    \u001b[38;5;66;03m# restore state no matter what (e.g., KeyboardInterrupt)\u001b[39;00m\n\u001b[32m    358\u001b[39m     \u001b[38;5;28;01mif\u001b[39;00m timeout \u001b[38;5;129;01mis\u001b[39;00m \u001b[38;5;28;01mNone\u001b[39;00m:\n\u001b[32m--> \u001b[39m\u001b[32m359\u001b[39m         \u001b[43mwaiter\u001b[49m\u001b[43m.\u001b[49m\u001b[43macquire\u001b[49m\u001b[43m(\u001b[49m\u001b[43m)\u001b[49m\n\u001b[32m    360\u001b[39m         gotit = \u001b[38;5;28;01mTrue\u001b[39;00m\n\u001b[32m    361\u001b[39m     \u001b[38;5;28;01melse\u001b[39;00m:\n",
      "\u001b[31mKeyboardInterrupt\u001b[39m: "
     ]
    }
   ],
   "source": [
    "%run colocalize.py"
   ]
  },
  {
   "cell_type": "code",
   "execution_count": 7,
   "id": "389694d8-b823-48c1-aa4e-f72f34dd0257",
   "metadata": {},
   "outputs": [],
   "source": [
    "#have an issue, see if I can work through the steps here to figure out whyb"
   ]
  },
  {
   "cell_type": "code",
   "execution_count": 8,
   "id": "b8f2b2b1-80ed-4ad3-a03a-ba8df5043487",
   "metadata": {},
   "outputs": [],
   "source": [
    "#Stick some code below this spot as a holding zone, but put in a stop so the notebook doesn't try and run the bits as they may or may not work."
   ]
  },
  {
   "cell_type": "code",
   "execution_count": 9,
   "id": "6e5f2bfb-bff8-46a6-9cc6-6bcce0becfb5",
   "metadata": {},
   "outputs": [
    {
     "ename": "SystemExit",
     "evalue": "Stop execution here",
     "output_type": "error",
     "traceback": [
      "An exception has occurred, use %tb to see the full traceback.\n",
      "\u001b[31mSystemExit\u001b[39m\u001b[31m:\u001b[39m Stop execution here\n"
     ]
    },
    {
     "name": "stderr",
     "output_type": "stream",
     "text": [
      "C:\\Users\\klongnecker\\AppData\\Local\\miniconda3\\Lib\\site-packages\\IPython\\core\\interactiveshell.py:3680: UserWarning:\n",
      "\n",
      "To exit: use 'exit', 'quit', or Ctrl-D.\n",
      "\n"
     ]
    }
   ],
   "source": [
    " raise SystemExit(\"Stop execution here\")"
   ]
  },
  {
   "cell_type": "code",
   "execution_count": null,
   "id": "a37480d8-535a-4105-a189-e27358106937",
   "metadata": {},
   "outputs": [],
   "source": [
    "import os, glob\n",
    "import concurrent.futures\n",
    "import pycmap\n",
    "from config.config import API_KEY\n",
    "from settings import DATA_DIR, COLOCALIZED_DIR\n",
    "from common import halt, makedir, environmental_datasets\n",
    "import pandas as pd\n",
    "import datetime\n",
    "from dateutil.parser import parse\n",
    "\n",
    "\n",
    "\n",
    "def cyano_csv_files(cyanoDir):\n",
    "    \"\"\"\n",
    "    Returns a list of path to csv files that hold observations of cyanobacteria.\n",
    "    \"\"\"\n",
    "    return glob.glob(f\"{cyanoDir}*.csv\")\n",
    "\n",
    "\n",
    "def add_env_columns(df, envs):\n",
    "    \"\"\"\n",
    "    Adds new columns to the dataframe form each environmental variable.\n",
    "    \"\"\"\n",
    "    for env in envs.values():\n",
    "        for v in env.get(\"variables\"):\n",
    "            if v not in df.columns: df[v] = None\n",
    "    return df\n",
    "    "
   ]
  },
  {
   "cell_type": "code",
   "execution_count": null,
   "id": "7e82d00d-03c1-420c-8641-6d42c034af98",
   "metadata": {},
   "outputs": [],
   "source": [
    "def add_env_temporal_coverage(api, envs):\n",
    "    \"\"\"\n",
    "    Adds new entries to the envs dictionary indicating the temporal coverage of each environmental dataset.\n",
    "    \"\"\"\n",
    "    for table, env in envs.items():\n",
    "        df = api.query(f\"SELECT MIN([time]) startTime, MAX([time]) endTime FROM {table}\")\n",
    "        if len(df) > 0:\n",
    "            envs[table][\"startTime\"] = df.loc[0, \"startTime\"]\n",
    "            envs[table][\"endTime\"] = df.loc[0, \"endTime\"]\n",
    "    return envs"
   ]
  },
  {
   "cell_type": "code",
   "execution_count": null,
   "id": "6248d37d-d31f-4ae7-87aa-5b798bb10cab",
   "metadata": {},
   "outputs": [],
   "source": [
    "DATA_DIR = \"./data/\"           \n",
    "cyanoFiles = cyano_csv_files(DATA_DIR)"
   ]
  },
  {
   "cell_type": "code",
   "execution_count": null,
   "id": "a3004f8e-eaeb-45e3-afa2-83270a7e97b4",
   "metadata": {},
   "outputs": [],
   "source": [
    "cyanoFiles"
   ]
  },
  {
   "cell_type": "code",
   "execution_count": null,
   "id": "ebd5e2ca-a425-4f59-a624-ab394a80621f",
   "metadata": {},
   "outputs": [],
   "source": [
    "    api = pycmap.API(token=API_KEY)\n",
    "    makedir(COLOCALIZED_DIR)\n",
    "    envs = environmental_datasets()        "
   ]
  },
  {
   "cell_type": "code",
   "execution_count": null,
   "id": "0c2bb745-596a-418a-b0ac-06afd26bd897",
   "metadata": {},
   "outputs": [],
   "source": [
    "envs"
   ]
  },
  {
   "cell_type": "code",
   "execution_count": null,
   "id": "e20ec683-afa3-410e-ba61-33f5379e9eff",
   "metadata": {},
   "outputs": [],
   "source": [
    "#this adds time information to an existing envs dictionary\n",
    "envs = add_env_temporal_coverage(api, envs)"
   ]
  },
  {
   "cell_type": "code",
   "execution_count": null,
   "id": "010d33a1-bdf8-46f3-a4df-cbcced23a50f",
   "metadata": {},
   "outputs": [],
   "source": [
    "envs"
   ]
  },
  {
   "cell_type": "code",
   "execution_count": null,
   "id": "6368ddd9-698d-471f-aaab-0d49bc9516b8",
   "metadata": {},
   "outputs": [],
   "source": [
    "cyanoFiles"
   ]
  },
  {
   "cell_type": "code",
   "execution_count": null,
   "id": "937b04a4-da32-4f5e-80e5-e3be3d82d148",
   "metadata": {},
   "outputs": [],
   "source": []
  },
  {
   "cell_type": "code",
   "execution_count": null,
   "id": "13dd8c07-2fd8-4f17-8045-0786a9742c3e",
   "metadata": {},
   "outputs": [],
   "source": [
    "cyanoFile = cyanoFiles[1]\n",
    "df = pd.read_csv(cyanoFile)\n",
    "df = add_env_columns(df, envs)\n",
    "dfs = [df.loc[i].to_frame().T for i in range(len(df))]"
   ]
  },
  {
   "cell_type": "code",
   "execution_count": null,
   "id": "fbf46f03-4092-41a1-adce-a2a098c13296",
   "metadata": {},
   "outputs": [],
   "source": [
    "colocalizedDF  = pd.DataFrame({})"
   ]
  },
  {
   "cell_type": "code",
   "execution_count": null,
   "id": "0effed8c-d813-4ff6-8f3d-ba2d9b6e6eac",
   "metadata": {},
   "outputs": [],
   "source": [
    "def match(df, api, envs, cyanoFile, rowCount):\n",
    "    \"\"\"\n",
    "    Takes a single-row dataframe containing cyano observations and colocalizes with the \n",
    "    environmental variables included in the `envs` argument. The tolerance parametrs \n",
    "    are also included in the `envs` argument.\n",
    "    \"\"\" \n",
    "    def get_month(dt):\n",
    "        return parse(dt).month\n",
    "\n",
    "    def shift_dt(dt, delta):\n",
    "        delta = float(delta)\n",
    "        dt = parse(dt)\n",
    "        dt += datetime.timedelta(days=delta)\n",
    "        return dt.strftime(\"%Y-%m-%d %H:%M:%S\")\n",
    "\n",
    "    def in_time_window(sourceDT, targetMinDT, targetMaxDT):\n",
    "        targetMinDT = targetMinDT.split(\".000Z\")[0]\n",
    "        targetMaxDT = targetMaxDT.split(\".000Z\")[0]\n",
    "        return not (\n",
    "                    parse(sourceDT) < parse(targetMinDT) or \n",
    "                    parse(sourceDT) > parse(targetMaxDT)\n",
    "                    )\n",
    "\n",
    "    def construc_query(table, env, t, lat, lon, depth):\n",
    "        variables = env[\"variables\"] \n",
    "        timeTolerance = env[\"tolerances\"][0] \n",
    "        latTolerance = env[\"tolerances\"][1] \n",
    "        lonTolerance = env[\"tolerances\"][2]  \n",
    "        depthTolerance = env[\"tolerances\"][3]  \n",
    "        hasDepth = env[\"hasDepth\"] \n",
    "        isClimatology = env[\"isClimatology\"]\n",
    "        inTimeRange = True\n",
    "        if not isClimatology:\n",
    "            startTime = env[\"startTime\"] #issue here, KeyError 'startTime'\n",
    "            endTime = env[\"endTime\"]    \n",
    "            inTimeRange = in_time_window(t, startTime, endTime)\n",
    "        selectClause = \"SELECT \" + \", \".join([f\"AVG({v}) {v}\" for v in variables]) + \" FROM \" + table\n",
    "        timeClause = f\" WHERE [time] BETWEEN '{shift_dt(t, -timeTolerance)}' AND '{shift_dt(t, timeTolerance)}' \"\n",
    "        if not inTimeRange or isClimatology: timeClause = f\" WHERE [month]={get_month(t)} \"\n",
    "        latClause = f\" AND lat BETWEEN {lat-latTolerance} AND {lat+latTolerance} \"\n",
    "        lonClause = f\" AND lon BETWEEN {lon-lonTolerance} AND {lon+lonTolerance} \"\n",
    "        depthClause = f\" AND depth BETWEEN {depth-depthTolerance} AND {depth+depthTolerance} \"\n",
    "        if not hasDepth: depthClause = \"\"                \n",
    "        return selectClause + timeClause + latClause + lonClause + depthClause        \n",
    "\n",
    "\n",
    "    if len(df) != 1: halt(f\"Invalid dataframe input.\\nExpected a single row dataframe but received {len(df)} rows.\")\n",
    "    rowIndex = df.index.values[0]\n",
    "    df.reset_index(drop=True, inplace=True)\n",
    "    t= df.iloc[0][\"time\"]\n",
    "    lat = df.iloc[0][\"lat\"]\n",
    "    lon = df.iloc[0][\"lon\"] \n",
    "    depth = 0\n",
    "    if 'depth' in df.columns: depth = df.iloc[0][\"depth\"]\n",
    "    for table, env in envs.items():\n",
    "        print(f\"{rowIndex} / {rowCount-1}\\n\\t{datetime.datetime.now()}: Colocalizing {table} with {cyanoFile} ...\")\n",
    "        query = construc_query(table, env, t, lat, lon, depth)\n",
    "        matchedEnv = api.query(query)\n",
    "        if len(matchedEnv)>0:\n",
    "            for v in env[\"variables\"]: df.at[0, v] = matchedEnv.iloc[0][v] \n",
    "    return df"
   ]
  },
  {
   "cell_type": "code",
   "execution_count": null,
   "id": "3e59cb63-8a2e-4046-8908-b12dafe962af",
   "metadata": {},
   "outputs": [],
   "source": [
    "\n",
    "def get_month(dt):\n",
    "    return parse(dt).month\n",
    "\n",
    "def shift_dt(dt, delta):\n",
    "    delta = float(delta)\n",
    "    dt = parse(dt)\n",
    "    dt += datetime.timedelta(days=delta)\n",
    "    return dt.strftime(\"%Y-%m-%d %H:%M:%S\")\n",
    "\n",
    "def in_time_window(sourceDT, targetMinDT, targetMaxDT):\n",
    "    targetMinDT = targetMinDT.split(\".000Z\")[0]\n",
    "    targetMaxDT = targetMaxDT.split(\".000Z\")[0]\n",
    "    return not (\n",
    "                parse(sourceDT) < parse(targetMinDT) or \n",
    "                parse(sourceDT) > parse(targetMaxDT)\n",
    "                )"
   ]
  },
  {
   "cell_type": "code",
   "execution_count": null,
   "id": "408bcf9d-419b-452b-b821-6bafd59317c7",
   "metadata": {},
   "outputs": [],
   "source": []
  },
  {
   "cell_type": "code",
   "execution_count": null,
   "id": "fed51b24-f6a9-4a6c-8d2e-634c86c201a7",
   "metadata": {},
   "outputs": [],
   "source": []
  },
  {
   "cell_type": "code",
   "execution_count": null,
   "id": "aa478175-beaa-444e-bb12-cf10d4006754",
   "metadata": {},
   "outputs": [],
   "source": [
    "def construc_query(table, env, t, lat, lon, depth):\n",
    "    variables = env[\"variables\"] \n",
    "    timeTolerance = env[\"tolerances\"][0] \n",
    "    latTolerance = env[\"tolerances\"][1] \n",
    "    lonTolerance = env[\"tolerances\"][2]  \n",
    "    depthTolerance = env[\"tolerances\"][3]  \n",
    "    hasDepth = env[\"hasDepth\"] \n",
    "    isClimatology = env[\"isClimatology\"]\n",
    "    inTimeRange = True\n",
    "    if not isClimatology:\n",
    "        startTime = env[\"startTime\"] #issue here, KeyError 'startTime'\n",
    "        endTime = env[\"endTime\"]    \n",
    "        inTimeRange = in_time_window(t, startTime, endTime)\n",
    "    selectClause = \"SELECT \" + \", \".join([f\"AVG({v}) {v}\" for v in variables]) + \" FROM \" + table\n",
    "    timeClause = f\" WHERE [time] BETWEEN '{shift_dt(t, -timeTolerance)}' AND '{shift_dt(t, timeTolerance)}' \"\n",
    "    if not inTimeRange or isClimatology: timeClause = f\" WHERE [month]={get_month(t)} \"\n",
    "    latClause = f\" AND lat BETWEEN {lat-latTolerance} AND {lat+latTolerance} \"\n",
    "    lonClause = f\" AND lon BETWEEN {lon-lonTolerance} AND {lon+lonTolerance} \"\n",
    "    depthClause = f\" AND depth BETWEEN {depth-depthTolerance} AND {depth+depthTolerance} \"\n",
    "    if not hasDepth: depthClause = \"\"                \n",
    "    return selectClause + timeClause + latClause + lonClause + depthClause   "
   ]
  },
  {
   "cell_type": "code",
   "execution_count": null,
   "id": "deca333f-76b2-42bb-bf06-63fa1726adfe",
   "metadata": {},
   "outputs": [],
   "source": [
    "envs.items()"
   ]
  },
  {
   "cell_type": "code",
   "execution_count": null,
   "id": "ce5da5a1-5197-4d6a-866a-031e23076639",
   "metadata": {},
   "outputs": [],
   "source": [
    "env"
   ]
  },
  {
   "cell_type": "code",
   "execution_count": null,
   "id": "39a21df4-f869-4b31-b416-ef91224fe9f2",
   "metadata": {},
   "outputs": [],
   "source": [
    "env[\"startTime\"]\n"
   ]
  },
  {
   "cell_type": "code",
   "execution_count": null,
   "id": "e572cc25-fcb8-49be-ab20-3ad2000b67b6",
   "metadata": {},
   "outputs": [],
   "source": [
    "pip install debugger"
   ]
  },
  {
   "cell_type": "code",
   "execution_count": null,
   "id": "76b00a93-97aa-41bb-83c2-8764758d2475",
   "metadata": {},
   "outputs": [],
   "source": []
  },
  {
   "cell_type": "code",
   "execution_count": null,
   "id": "68fd5b3b-8e65-4431-9780-12d7abb38b18",
   "metadata": {},
   "outputs": [],
   "source": []
  },
  {
   "cell_type": "code",
   "execution_count": null,
   "id": "36404b44-4138-452a-8138-cc4192eabdac",
   "metadata": {},
   "outputs": [],
   "source": []
  },
  {
   "cell_type": "code",
   "execution_count": null,
   "id": "2116b80a-99d3-4759-91c2-3044d652cf52",
   "metadata": {},
   "outputs": [],
   "source": []
  },
  {
   "cell_type": "code",
   "execution_count": null,
   "id": "cd0744f7-f0b0-44ca-9b39-14ef152b96a8",
   "metadata": {},
   "outputs": [],
   "source": []
  },
  {
   "cell_type": "code",
   "execution_count": null,
   "id": "8019ef56-fa6d-4728-b5ad-d3ad1b3cc80c",
   "metadata": {},
   "outputs": [],
   "source": []
  },
  {
   "cell_type": "code",
   "execution_count": null,
   "id": "d27e1d43-e825-4d4e-a1f7-8144bbd2c89e",
   "metadata": {},
   "outputs": [],
   "source": []
  },
  {
   "cell_type": "code",
   "execution_count": null,
   "id": "3e3310f0-3309-481d-b36f-fcc961049951",
   "metadata": {},
   "outputs": [],
   "source": []
  },
  {
   "cell_type": "code",
   "execution_count": null,
   "id": "ee7827c2-1950-4826-a1ec-270ca38ceff2",
   "metadata": {},
   "outputs": [],
   "source": []
  },
  {
   "cell_type": "code",
   "execution_count": null,
   "id": "95d76781-2192-4504-823a-084c9d0af3bc",
   "metadata": {},
   "outputs": [],
   "source": []
  },
  {
   "cell_type": "code",
   "execution_count": null,
   "id": "c17e5c69-fbfe-4371-b5b2-d591b968dd5b",
   "metadata": {
    "scrolled": true
   },
   "outputs": [],
   "source": [
    "#this will make a file with everything: data/compiled/compiled.csv \n",
    "%run compiler.py"
   ]
  },
  {
   "cell_type": "code",
   "execution_count": null,
   "id": "5932421e-7d93-4d0f-bac2-8e46f09029db",
   "metadata": {},
   "outputs": [],
   "source": []
  }
 ],
 "metadata": {
  "kernelspec": {
   "display_name": "Python 3 (ipykernel)",
   "language": "python",
   "name": "python3"
  },
  "language_info": {
   "codemirror_mode": {
    "name": "ipython",
    "version": 3
   },
   "file_extension": ".py",
   "mimetype": "text/x-python",
   "name": "python",
   "nbconvert_exporter": "python",
   "pygments_lexer": "ipython3",
   "version": "3.13.2"
  }
 },
 "nbformat": 4,
 "nbformat_minor": 5
}
